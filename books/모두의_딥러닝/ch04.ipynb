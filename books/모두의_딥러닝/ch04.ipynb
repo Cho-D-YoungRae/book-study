{
  "nbformat": 4,
  "nbformat_minor": 0,
  "metadata": {
    "colab": {
      "provenance": []
    },
    "kernelspec": {
      "name": "python3",
      "display_name": "Python 3"
    },
    "language_info": {
      "name": "python"
    }
  },
  "cells": [
    {
      "cell_type": "markdown",
      "source": [
        "# Chapter 04. 가장 훌륭한 예측선"
      ],
      "metadata": {
        "id": "15dEW9qA0f-G"
      }
    },
    {
      "cell_type": "code",
      "execution_count": 30,
      "metadata": {
        "colab": {
          "base_uri": "https://localhost:8080/"
        },
        "id": "5A5bdjki0WM9",
        "outputId": "94cc106b-a242-4891-de2c-ac22804a9d26"
      },
      "outputs": [
        {
          "output_type": "stream",
          "name": "stdout",
          "text": [
            "3.10.12 (main, Nov 20 2023, 15:14:05) [GCC 11.4.0]\n",
            "1.25.2\n"
          ]
        }
      ],
      "source": [
        "import sys\n",
        "import numpy as np\n",
        "\n",
        "print(sys.version)\n",
        "print(np.__version__)"
      ]
    },
    {
      "cell_type": "markdown",
      "source": [
        "## 1. 선형 회귀의 정의\n",
        "\n",
        "딥러닝의 가장 말단에서 이루어지는 기본적인 두 가지 계산 원리 -> **선형 회귀**, **로지스틱 회귀**\n",
        "\n",
        "x 값에 따라 변하는 y\n",
        "\n",
        "- 독립적으로 변할 수 잇는 값 x: 독립변수\n",
        "- 독립 변수에 따라 종속적으로 변하는 y: 종속 변수"
      ],
      "metadata": {
        "id": "O17D8jMD4DfL"
      }
    },
    {
      "cell_type": "markdown",
      "source": [
        "## 2. 가장 훌륭한 예측선이란?\n",
        "\n",
        "y = ax + b -> 선형 회귀는 최적의 a 값과 b 값을 찾아내는 작업"
      ],
      "metadata": {
        "id": "KUdKSoaW6N4x"
      }
    },
    {
      "cell_type": "markdown",
      "source": [
        "## 3. 최소 제곱법\n",
        "\n",
        "최소 제곱법이라는 공식을 알고 적용한다면, 이를 통해 일차 함수의 기울기 a와 y절편 b를 바로 구할 수 있음\n",
        "\n",
        "$$a = \\frac{(x - x평균)(y - y평균)의 합}{(x - x평균)^2}$$\n",
        "\n",
        "$$b = y의 평균 - (x평균 * a)$$"
      ],
      "metadata": {
        "id": "82r7Gcld0qIV"
      }
    },
    {
      "cell_type": "markdown",
      "source": [
        "## 4. 파이썬 코딩으로 확인하는 최소 제곱\n"
      ],
      "metadata": {
        "id": "lA5O-vst8_uP"
      }
    },
    {
      "cell_type": "code",
      "source": [
        "x = np.array([2, 4, 6, 8])\n",
        "y = np.array([81, 93, 91, 97])"
      ],
      "metadata": {
        "id": "GTaQB8Lc9KWz"
      },
      "execution_count": 31,
      "outputs": []
    },
    {
      "cell_type": "code",
      "source": [
        "mx = np.mean(x)\n",
        "my = np.mean(y)"
      ],
      "metadata": {
        "id": "QJHLWuek9SyH"
      },
      "execution_count": 32,
      "outputs": []
    },
    {
      "cell_type": "code",
      "source": [
        "a = sum([(x[i] - mx) * (y[i] - my) for i in range(len(x))]) / sum([(i - mx) ** 2 for i in x])\n",
        "\n",
        "print(f\"a = {a}\")"
      ],
      "metadata": {
        "colab": {
          "base_uri": "https://localhost:8080/"
        },
        "id": "pCDYFJp59ZDo",
        "outputId": "04599673-8d1c-41e7-d7bc-d0d91cd3f47e"
      },
      "execution_count": 33,
      "outputs": [
        {
          "output_type": "stream",
          "name": "stdout",
          "text": [
            "a = 2.3\n"
          ]
        }
      ]
    },
    {
      "cell_type": "code",
      "source": [
        "b = my - (mx * a)\n",
        "\n",
        "print(f\"b = {b}\")"
      ],
      "metadata": {
        "colab": {
          "base_uri": "https://localhost:8080/"
        },
        "id": "i7pufvdm96kG",
        "outputId": "fbf455c5-166d-49c0-cb1d-d15c19d24961"
      },
      "execution_count": 34,
      "outputs": [
        {
          "output_type": "stream",
          "name": "stdout",
          "text": [
            "b = 79.0\n"
          ]
        }
      ]
    },
    {
      "cell_type": "markdown",
      "source": [
        "## 5. 평균 제곱 오차\n",
        "\n",
        "최소 제곱법은 여러 개의 입력을 처리하기에는 무리가 있음 -> a, b 를 찾아내는 다른 방법 필요\n",
        "\n",
        "가장 많이 사용하는 방법은 '일단 그리고 조금씩 수정해 나가기'\n",
        "\n",
        "선을 긋고 나서 수정하는 과정에서 빠지면 안되는 것은 나중에 그린 선이 먼저 그린 선보다 더 좋은지 나쁜지를 판단하는 방법\n",
        "\n",
        "> 각 선의 오차를 계산할 수 있어야 하고, 오차가 작은 쪽으로 바꾸는 알고리즘이 필요\n",
        "\n",
        "선의 오차를 평가하는 방법 -> 오차를 구할 때 가장 많이 사용되는 방법 **평균 제곱 오차**\n",
        "\n",
        "$$오차 = 실제 값 - 예측 값$$\n",
        "\n",
        "$$오차의 합 = \\sum_{i}^n(y_{i}-\\hat{y_{i}})^2$$\n",
        "\n",
        "$$평균 제곱 오차(MSE) = \\frac{1}{n}\\sum_{i}^n(y_{i}-\\hat{y_{i}})^2$$\n"
      ],
      "metadata": {
        "id": "X6O8XMCX-FdV"
      }
    },
    {
      "cell_type": "markdown",
      "source": [
        "## 6. 파이썬 코딩으로 확인하는 평균 제곱 오차"
      ],
      "metadata": {
        "id": "wr5eVF1_L8oH"
      }
    },
    {
      "cell_type": "code",
      "source": [
        "fake_a = 3\n",
        "fake_b = 76\n",
        "\n",
        "def predict(x) :\n",
        "  return fake_a * x + fake_b"
      ],
      "metadata": {
        "id": "jmogJwdSL8P1"
      },
      "execution_count": 35,
      "outputs": []
    },
    {
      "cell_type": "code",
      "source": [
        "predict_result = []"
      ],
      "metadata": {
        "id": "b39HCFuQMJ32"
      },
      "execution_count": 36,
      "outputs": []
    },
    {
      "cell_type": "code",
      "source": [
        "for i in range(len(x)):\n",
        "  result = predict(x[i])\n",
        "  predict_result.append(result)\n",
        "  print(f\"공부시간={x[i]:f}, 실제점수={y[i]:f}, 예측점수={result:f},\")"
      ],
      "metadata": {
        "colab": {
          "base_uri": "https://localhost:8080/"
        },
        "id": "_G78zGcEMNGv",
        "outputId": "be563ed3-2aab-435c-9281-c5a5bc0fbf81"
      },
      "execution_count": 37,
      "outputs": [
        {
          "output_type": "stream",
          "name": "stdout",
          "text": [
            "공부시간=2.000000, 실제점수=81.000000, 예측점수=82.000000,\n",
            "공부시간=4.000000, 실제점수=93.000000, 예측점수=88.000000,\n",
            "공부시간=6.000000, 실제점수=91.000000, 예측점수=94.000000,\n",
            "공부시간=8.000000, 실제점수=97.000000, 예측점수=100.000000,\n"
          ]
        }
      ]
    },
    {
      "cell_type": "code",
      "source": [
        "n = len(x)\n",
        "\n",
        "def mse(y, y_pred):\n",
        "  return (1/n) * sum((y - y_pred) ** 2)"
      ],
      "metadata": {
        "id": "Z8t9J5oUMinX"
      },
      "execution_count": 38,
      "outputs": []
    },
    {
      "cell_type": "code",
      "source": [
        "print(f\"평균 제곱 오차: {str(mse(y, predict_result))}\")"
      ],
      "metadata": {
        "colab": {
          "base_uri": "https://localhost:8080/"
        },
        "id": "LZD2F3AxNOtW",
        "outputId": "04c267d5-e6f0-406b-8368-b490c364dfa2"
      },
      "execution_count": 39,
      "outputs": [
        {
          "output_type": "stream",
          "name": "stdout",
          "text": [
            "평균 제곱 오차: 11.0\n"
          ]
        }
      ]
    }
  ]
}