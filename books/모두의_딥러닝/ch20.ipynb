{
  "cells": [
    {
      "cell_type": "markdown",
      "metadata": {
        "id": "X6DMn4nBwcTe"
      },
      "source": [
        "# Chapter 20. 전이 학습을 통해 딥러닝의 성능 극대화하기\n",
        "\n",
        "\n",
        "\n"
      ]
    },
    {
      "cell_type": "code",
      "execution_count": 10,
      "metadata": {
        "colab": {
          "base_uri": "https://localhost:8080/"
        },
        "id": "wvIePS7lwkpj",
        "outputId": "351e16db-ae02-4085-d3f0-1a0ee001e19c"
      },
      "outputs": [
        {
          "output_type": "stream",
          "name": "stdout",
          "text": [
            "python: 3.10.12 (main, Nov 20 2023, 15:14:05) [GCC 11.4.0]\n",
            "numpy: 1.25.2\n",
            "pandas: 1.5.3\n",
            "sklearn: 1.2.2\n",
            "matplotlib: 3.7.1\n",
            "seaborn: 0.13.1\n",
            "tensorflow: 2.15.0\n"
          ]
        }
      ],
      "source": [
        "import sys\n",
        "import numpy as np\n",
        "import pandas as pd\n",
        "import sklearn\n",
        "from sklearn.model_selection import train_test_split\n",
        "from sklearn.model_selection import KFold\n",
        "from sklearn.metrics import accuracy_score\n",
        "\n",
        "import matplotlib\n",
        "import matplotlib.pyplot as plt\n",
        "import seaborn as sns\n",
        "\n",
        "import tensorflow as tf\n",
        "from tensorflow.keras.layers import Dense, Dropout, Flatten, Conv2D, MaxPooling2D, Embedding, LSTM, Conv1D, MaxPooling1D, Activation, BatchNormalization, LeakyReLU, UpSampling2D, Reshape, Input\n",
        "from tensorflow.keras.models import Sequential, Model\n",
        "from tensorflow.keras.models import load_model\n",
        "from tensorflow.keras.callbacks import ModelCheckpoint, EarlyStopping\n",
        "from tensorflow.keras.datasets import mnist, reuters, imdb\n",
        "from tensorflow.keras.utils import to_categorical\n",
        "from tensorflow.keras.preprocessing.text import text_to_word_sequence, Tokenizer\n",
        "from tensorflow.keras.preprocessing.sequence import pad_sequences\n",
        "from tensorflow.keras.preprocessing.image import ImageDataGenerator\n",
        "from tensorflow.keras.optimizers import Adam\n",
        "from tensorflow.keras.applications import VGG16\n",
        "\n",
        "print(f\"python: {sys.version}\")\n",
        "print(f\"numpy: {np.__version__}\")\n",
        "print(f\"pandas: {pd.__version__}\")\n",
        "print(f\"sklearn: {sklearn.__version__}\")\n",
        "print(f\"matplotlib: {matplotlib.__version__}\")\n",
        "print(f\"seaborn: {sns.__version__}\")\n",
        "print(f\"tensorflow: {tf.__version__}\")"
      ]
    },
    {
      "cell_type": "code",
      "source": [
        "!git clone https://github.com/taehojo/data-ch20.git"
      ],
      "metadata": {
        "colab": {
          "base_uri": "https://localhost:8080/"
        },
        "id": "mht55Ggy0_m3",
        "outputId": "0c8bf028-93f0-4391-a0e5-bacbf1a38737"
      },
      "execution_count": 2,
      "outputs": [
        {
          "output_type": "stream",
          "name": "stdout",
          "text": [
            "Cloning into 'data-ch20'...\n",
            "remote: Enumerating objects: 265, done.\u001b[K\n",
            "remote: Counting objects: 100% (265/265), done.\u001b[K\n",
            "remote: Compressing objects: 100% (265/265), done.\u001b[K\n",
            "remote: Total 265 (delta 0), reused 265 (delta 0), pack-reused 0\u001b[K\n",
            "Receiving objects: 100% (265/265), 1.86 MiB | 12.79 MiB/s, done.\n"
          ]
        }
      ]
    },
    {
      "cell_type": "code",
      "source": [
        "train_datagen = ImageDataGenerator(rescale=1./255,          # 주어진 이미지의 크기를 설정합니다.\n",
        "                                  horizontal_flip=True,     # 수평 대칭 이미지를 50% 확률로 만들어 추가합니다.\n",
        "                                  width_shift_range=0.1,    # 전체 크기의 15% 범위에서 좌우로 이동합니다.\n",
        "                                  height_shift_range=0.1,   # 마찬가지로 위, 아래로 이동합니다.\n",
        "                                  #rotation_range=5,        # 정해진 각도만큼 회전시킵니다.\n",
        "                                  #shear_range=0.7,         # 좌표 하나를 고정시키고 나머지를 이동시킵니다.\n",
        "                                  #zoom_range=1.2,          # 확대 또는 축소시킵니다.\n",
        "                                  #vertical_flip=True,      # 수직 대칭 이미지를 만듭니다.\n",
        "                                  #fill_mode='nearest'      # 빈 공간을 채우는 방법입니다. nearest 옵션은 가장 비슷한 색으로 채우게 됩니다.\n",
        "                                  )"
      ],
      "metadata": {
        "id": "GYECqYJv1CDm"
      },
      "execution_count": 4,
      "outputs": []
    },
    {
      "cell_type": "code",
      "source": [
        "train_generator = train_datagen.flow_from_directory(\n",
        "       './data-ch20/train',   # 학습셋이 있는 폴더의 위치입니다.\n",
        "       target_size=(150, 150),\n",
        "       batch_size=5,\n",
        "       class_mode='binary')\n",
        "\n",
        "# 테스트셋은 이미지 부풀리기 과정을 진행하지 않습니다.\n",
        "test_datagen = ImageDataGenerator(rescale=1./255)\n",
        "\n",
        "test_generator = test_datagen.flow_from_directory(\n",
        "       './data-ch20/test',   # 테스트셋이 있는 폴더의 위치입니다.\n",
        "       target_size=(150, 150),\n",
        "       batch_size=5,\n",
        "       class_mode='binary')"
      ],
      "metadata": {
        "colab": {
          "base_uri": "https://localhost:8080/"
        },
        "id": "Gf6gGuDY1Kk0",
        "outputId": "cb178cb3-24e4-4418-8109-c1bf5975c452"
      },
      "execution_count": 5,
      "outputs": [
        {
          "output_type": "stream",
          "name": "stdout",
          "text": [
            "Found 160 images belonging to 2 classes.\n",
            "Found 120 images belonging to 2 classes.\n"
          ]
        }
      ]
    },
    {
      "cell_type": "code",
      "source": [
        "model = Sequential()\n",
        "model.add(Conv2D(32, (3, 3), input_shape=(150,150,3)))\n",
        "model.add(Activation('relu'))\n",
        "model.add(MaxPooling2D(pool_size=(2, 2)))\n",
        "\n",
        "model.add(Conv2D(32, (3, 3)))\n",
        "model.add(Activation('relu'))\n",
        "model.add(MaxPooling2D(pool_size=(2, 2)))\n",
        "\n",
        "model.add(Conv2D(64, (3, 3)))\n",
        "model.add(Activation('relu'))\n",
        "model.add(MaxPooling2D(pool_size=(2, 2)))\n",
        "\n",
        "model.add(Flatten())\n",
        "model.add(Dense(64))\n",
        "model.add(Activation('relu'))\n",
        "model.add(Dropout(0.5))\n",
        "model.add(Dense(1))\n",
        "model.add(Activation('sigmoid'))\n",
        "model.summary()"
      ],
      "metadata": {
        "colab": {
          "base_uri": "https://localhost:8080/"
        },
        "id": "svPlhswI1M6n",
        "outputId": "e47a7234-abd8-427a-8e2c-79fb21559597"
      },
      "execution_count": 7,
      "outputs": [
        {
          "output_type": "stream",
          "name": "stdout",
          "text": [
            "Model: \"sequential\"\n",
            "_________________________________________________________________\n",
            " Layer (type)                Output Shape              Param #   \n",
            "=================================================================\n",
            " conv2d (Conv2D)             (None, 148, 148, 32)      896       \n",
            "                                                                 \n",
            " activation (Activation)     (None, 148, 148, 32)      0         \n",
            "                                                                 \n",
            " max_pooling2d (MaxPooling2  (None, 74, 74, 32)        0         \n",
            " D)                                                              \n",
            "                                                                 \n",
            " conv2d_1 (Conv2D)           (None, 72, 72, 32)        9248      \n",
            "                                                                 \n",
            " activation_1 (Activation)   (None, 72, 72, 32)        0         \n",
            "                                                                 \n",
            " max_pooling2d_1 (MaxPoolin  (None, 36, 36, 32)        0         \n",
            " g2D)                                                            \n",
            "                                                                 \n",
            " conv2d_2 (Conv2D)           (None, 34, 34, 64)        18496     \n",
            "                                                                 \n",
            " activation_2 (Activation)   (None, 34, 34, 64)        0         \n",
            "                                                                 \n",
            " max_pooling2d_2 (MaxPoolin  (None, 17, 17, 64)        0         \n",
            " g2D)                                                            \n",
            "                                                                 \n",
            " flatten (Flatten)           (None, 18496)             0         \n",
            "                                                                 \n",
            " dense (Dense)               (None, 64)                1183808   \n",
            "                                                                 \n",
            " activation_3 (Activation)   (None, 64)                0         \n",
            "                                                                 \n",
            " dropout (Dropout)           (None, 64)                0         \n",
            "                                                                 \n",
            " dense_1 (Dense)             (None, 1)                 65        \n",
            "                                                                 \n",
            " activation_4 (Activation)   (None, 1)                 0         \n",
            "                                                                 \n",
            "=================================================================\n",
            "Total params: 1212513 (4.63 MB)\n",
            "Trainable params: 1212513 (4.63 MB)\n",
            "Non-trainable params: 0 (0.00 Byte)\n",
            "_________________________________________________________________\n"
          ]
        }
      ]
    },
    {
      "cell_type": "code",
      "source": [
        "# 모델 실행의 옵션을 설정합니다.\n",
        "model.compile(loss='binary_crossentropy', optimizer=Adam(learning_rate=0.0002), metrics=['accuracy'])\n",
        "\n",
        "# 학습의 조기 중단을 설정합니다.\n",
        "early_stopping_callback = EarlyStopping(monitor='val_loss', patience=5)\n",
        "\n",
        "# 모델을 실행합니다\n",
        "history = model.fit(\n",
        "       train_generator,\n",
        "       epochs=100,\n",
        "       validation_data=test_generator,\n",
        "       validation_steps=10,\n",
        "       callbacks=[early_stopping_callback])"
      ],
      "metadata": {
        "colab": {
          "base_uri": "https://localhost:8080/"
        },
        "id": "pYl1MxQN1Y8P",
        "outputId": "8ee3c7c8-1ab0-4643-8917-42f79751b56f"
      },
      "execution_count": 8,
      "outputs": [
        {
          "output_type": "stream",
          "name": "stdout",
          "text": [
            "Epoch 1/100\n",
            "32/32 [==============================] - 8s 184ms/step - loss: 0.7049 - accuracy: 0.5125 - val_loss: 0.7005 - val_accuracy: 0.4000\n",
            "Epoch 2/100\n",
            "32/32 [==============================] - 7s 219ms/step - loss: 0.6969 - accuracy: 0.5437 - val_loss: 0.6844 - val_accuracy: 0.5400\n",
            "Epoch 3/100\n",
            "32/32 [==============================] - 6s 195ms/step - loss: 0.6894 - accuracy: 0.5250 - val_loss: 0.6827 - val_accuracy: 0.5800\n",
            "Epoch 4/100\n",
            "32/32 [==============================] - 5s 164ms/step - loss: 0.6780 - accuracy: 0.5813 - val_loss: 0.6657 - val_accuracy: 0.7000\n",
            "Epoch 5/100\n",
            "32/32 [==============================] - 5s 157ms/step - loss: 0.6626 - accuracy: 0.6187 - val_loss: 0.6458 - val_accuracy: 0.7200\n",
            "Epoch 6/100\n",
            "32/32 [==============================] - 6s 201ms/step - loss: 0.6442 - accuracy: 0.6750 - val_loss: 0.6249 - val_accuracy: 0.7400\n",
            "Epoch 7/100\n",
            "32/32 [==============================] - 5s 170ms/step - loss: 0.5808 - accuracy: 0.7812 - val_loss: 0.5258 - val_accuracy: 0.8400\n",
            "Epoch 8/100\n",
            "32/32 [==============================] - 5s 167ms/step - loss: 0.5673 - accuracy: 0.7437 - val_loss: 0.4707 - val_accuracy: 0.8200\n",
            "Epoch 9/100\n",
            "32/32 [==============================] - 6s 185ms/step - loss: 0.4962 - accuracy: 0.7688 - val_loss: 0.4339 - val_accuracy: 0.8600\n",
            "Epoch 10/100\n",
            "32/32 [==============================] - 6s 193ms/step - loss: 0.4016 - accuracy: 0.8750 - val_loss: 0.4011 - val_accuracy: 0.8400\n",
            "Epoch 11/100\n",
            "32/32 [==============================] - 5s 162ms/step - loss: 0.3934 - accuracy: 0.8375 - val_loss: 0.2554 - val_accuracy: 0.9800\n",
            "Epoch 12/100\n",
            "32/32 [==============================] - 5s 161ms/step - loss: 0.2915 - accuracy: 0.9312 - val_loss: 0.1776 - val_accuracy: 0.9800\n",
            "Epoch 13/100\n",
            "32/32 [==============================] - 8s 234ms/step - loss: 0.2960 - accuracy: 0.8813 - val_loss: 0.1979 - val_accuracy: 0.9400\n",
            "Epoch 14/100\n",
            "32/32 [==============================] - 10s 304ms/step - loss: 0.2781 - accuracy: 0.9000 - val_loss: 0.1728 - val_accuracy: 0.9600\n",
            "Epoch 15/100\n",
            "32/32 [==============================] - 5s 164ms/step - loss: 0.2002 - accuracy: 0.9312 - val_loss: 0.1743 - val_accuracy: 0.9400\n",
            "Epoch 16/100\n",
            "32/32 [==============================] - 7s 220ms/step - loss: 0.2041 - accuracy: 0.9438 - val_loss: 0.1227 - val_accuracy: 0.9800\n",
            "Epoch 17/100\n",
            "32/32 [==============================] - 5s 165ms/step - loss: 0.1882 - accuracy: 0.9438 - val_loss: 0.0784 - val_accuracy: 1.0000\n",
            "Epoch 18/100\n",
            "32/32 [==============================] - 10s 297ms/step - loss: 0.1422 - accuracy: 0.9563 - val_loss: 0.0894 - val_accuracy: 0.9800\n",
            "Epoch 19/100\n",
            "32/32 [==============================] - 9s 290ms/step - loss: 0.1288 - accuracy: 0.9625 - val_loss: 0.0638 - val_accuracy: 0.9800\n",
            "Epoch 20/100\n",
            "32/32 [==============================] - 6s 187ms/step - loss: 0.1881 - accuracy: 0.9187 - val_loss: 0.0900 - val_accuracy: 0.9600\n",
            "Epoch 21/100\n",
            "32/32 [==============================] - 6s 195ms/step - loss: 0.1897 - accuracy: 0.9312 - val_loss: 0.1658 - val_accuracy: 0.9200\n",
            "Epoch 22/100\n",
            "32/32 [==============================] - 5s 167ms/step - loss: 0.1320 - accuracy: 0.9563 - val_loss: 0.0721 - val_accuracy: 1.0000\n",
            "Epoch 23/100\n",
            "32/32 [==============================] - 8s 255ms/step - loss: 0.0886 - accuracy: 0.9812 - val_loss: 0.1380 - val_accuracy: 0.9200\n",
            "Epoch 24/100\n",
            "32/32 [==============================] - 6s 196ms/step - loss: 0.1488 - accuracy: 0.9375 - val_loss: 0.0559 - val_accuracy: 0.9800\n",
            "Epoch 25/100\n",
            "32/32 [==============================] - 5s 162ms/step - loss: 0.1117 - accuracy: 0.9563 - val_loss: 0.0441 - val_accuracy: 1.0000\n",
            "Epoch 26/100\n",
            "32/32 [==============================] - 6s 197ms/step - loss: 0.1150 - accuracy: 0.9625 - val_loss: 0.0736 - val_accuracy: 0.9800\n",
            "Epoch 27/100\n",
            "32/32 [==============================] - 6s 191ms/step - loss: 0.0836 - accuracy: 0.9812 - val_loss: 0.0620 - val_accuracy: 0.9800\n",
            "Epoch 28/100\n",
            "32/32 [==============================] - 7s 213ms/step - loss: 0.0944 - accuracy: 0.9688 - val_loss: 0.0566 - val_accuracy: 0.9600\n",
            "Epoch 29/100\n",
            "32/32 [==============================] - 7s 208ms/step - loss: 0.1050 - accuracy: 0.9563 - val_loss: 0.0373 - val_accuracy: 1.0000\n",
            "Epoch 30/100\n",
            "32/32 [==============================] - 5s 167ms/step - loss: 0.1066 - accuracy: 0.9563 - val_loss: 0.0577 - val_accuracy: 0.9600\n",
            "Epoch 31/100\n",
            "32/32 [==============================] - 6s 188ms/step - loss: 0.0911 - accuracy: 0.9750 - val_loss: 0.0904 - val_accuracy: 0.9600\n",
            "Epoch 32/100\n",
            "32/32 [==============================] - 5s 165ms/step - loss: 0.1181 - accuracy: 0.9625 - val_loss: 0.0368 - val_accuracy: 1.0000\n",
            "Epoch 33/100\n",
            "32/32 [==============================] - 5s 165ms/step - loss: 0.1126 - accuracy: 0.9688 - val_loss: 0.0451 - val_accuracy: 1.0000\n",
            "Epoch 34/100\n",
            "32/32 [==============================] - 5s 165ms/step - loss: 0.0585 - accuracy: 0.9812 - val_loss: 0.0540 - val_accuracy: 0.9800\n",
            "Epoch 35/100\n",
            "32/32 [==============================] - 6s 201ms/step - loss: 0.0760 - accuracy: 0.9625 - val_loss: 0.0366 - val_accuracy: 1.0000\n",
            "Epoch 36/100\n",
            "32/32 [==============================] - 5s 166ms/step - loss: 0.0656 - accuracy: 0.9750 - val_loss: 0.0241 - val_accuracy: 1.0000\n",
            "Epoch 37/100\n",
            "32/32 [==============================] - 5s 167ms/step - loss: 0.0729 - accuracy: 0.9875 - val_loss: 0.0519 - val_accuracy: 0.9800\n",
            "Epoch 38/100\n",
            "32/32 [==============================] - 6s 197ms/step - loss: 0.0321 - accuracy: 1.0000 - val_loss: 0.0457 - val_accuracy: 0.9800\n",
            "Epoch 39/100\n",
            "32/32 [==============================] - 6s 178ms/step - loss: 0.1029 - accuracy: 0.9688 - val_loss: 0.0669 - val_accuracy: 0.9600\n",
            "Epoch 40/100\n",
            "32/32 [==============================] - 5s 167ms/step - loss: 0.0807 - accuracy: 0.9688 - val_loss: 0.0368 - val_accuracy: 1.0000\n",
            "Epoch 41/100\n",
            "32/32 [==============================] - 5s 165ms/step - loss: 0.0810 - accuracy: 0.9750 - val_loss: 0.1892 - val_accuracy: 0.9400\n"
          ]
        }
      ]
    },
    {
      "cell_type": "code",
      "source": [
        "# 검증셋과 학습셋의 오차를 저장합니다.\n",
        "y_vloss = history.history['val_loss']\n",
        "y_loss = history.history['loss']\n",
        "\n",
        "# 그래프로 표현해 봅니다.\n",
        "x_len = np.arange(len(y_loss))\n",
        "plt.plot(x_len, y_vloss, marker='.', c=\"red\", label='Testset_loss')\n",
        "plt.plot(x_len, y_loss, marker='.', c=\"blue\", label='Trainset_loss')\n",
        "\n",
        "# 그래프에 그리드를 주고 레이블을 표시하겠습니다.\n",
        "plt.legend(loc='upper right')\n",
        "plt.grid()\n",
        "plt.xlabel('epoch')\n",
        "plt.ylabel('loss')\n",
        "plt.show()"
      ],
      "metadata": {
        "colab": {
          "base_uri": "https://localhost:8080/",
          "height": 449
        },
        "id": "Vr0iVdN-1dQ2",
        "outputId": "5899cf71-b7df-47a6-8214-8cdfc423f87f"
      },
      "execution_count": 9,
      "outputs": [
        {
          "output_type": "display_data",
          "data": {
            "text/plain": [
              "<Figure size 640x480 with 1 Axes>"
            ],
            "image/png": "[encoded data removed]"
          },
          "metadata": {}
        }
      ]
    },
    {
      "cell_type": "code",
      "source": [
        "# VGG16 모델을 불러옵니다.\n",
        "transfer_model = VGG16(weights='imagenet', include_top=False, input_shape=(150, 150, 3))\n",
        "transfer_model.trainable = False\n",
        "transfer_model.summary()\n",
        "\n",
        "# 우리의 모델을 설정합니다.\n",
        "finetune_model = Sequential()\n",
        "finetune_model.add(transfer_model)\n",
        "finetune_model.add(Flatten())\n",
        "finetune_model.add(Dense(64))\n",
        "finetune_model.add(Activation('relu'))\n",
        "finetune_model.add(Dropout(0.5))\n",
        "finetune_model.add(Dense(1))\n",
        "finetune_model.add(Activation('sigmoid'))\n",
        "finetune_model.summary()"
      ],
      "metadata": {
        "colab": {
          "base_uri": "https://localhost:8080/"
        },
        "id": "6C68q3fv129f",
        "outputId": "93cbfa0d-eec5-40c6-b942-3d3afdf6f81e"
      },
      "execution_count": 11,
      "outputs": [
        {
          "output_type": "stream",
          "name": "stdout",
          "text": [
            "Downloading data from https://storage.googleapis.com/tensorflow/keras-applications/vgg16/vgg16_weights_tf_dim_ordering_tf_kernels_notop.h5\n",
            "58889256/58889256 [==============================] - 0s 0us/step\n",
            "Model: \"vgg16\"\n",
            "_________________________________________________________________\n",
            " Layer (type)                Output Shape              Param #   \n",
            "=================================================================\n",
            " input_1 (InputLayer)        [(None, 150, 150, 3)]     0         \n",
            "                                                                 \n",
            " block1_conv1 (Conv2D)       (None, 150, 150, 64)      1792      \n",
            "                                                                 \n",
            " block1_conv2 (Conv2D)       (None, 150, 150, 64)      36928     \n",
            "                                                                 \n",
            " block1_pool (MaxPooling2D)  (None, 75, 75, 64)        0         \n",
            "                                                                 \n",
            " block2_conv1 (Conv2D)       (None, 75, 75, 128)       73856     \n",
            "                                                                 \n",
            " block2_conv2 (Conv2D)       (None, 75, 75, 128)       147584    \n",
            "                                                                 \n",
            " block2_pool (MaxPooling2D)  (None, 37, 37, 128)       0         \n",
            "                                                                 \n",
            " block3_conv1 (Conv2D)       (None, 37, 37, 256)       295168    \n",
            "                                                                 \n",
            " block3_conv2 (Conv2D)       (None, 37, 37, 256)       590080    \n",
            "                                                                 \n",
            " block3_conv3 (Conv2D)       (None, 37, 37, 256)       590080    \n",
            "                                                                 \n",
            " block3_pool (MaxPooling2D)  (None, 18, 18, 256)       0         \n",
            "                                                                 \n",
            " block4_conv1 (Conv2D)       (None, 18, 18, 512)       1180160   \n",
            "                                                                 \n",
            " block4_conv2 (Conv2D)       (None, 18, 18, 512)       2359808   \n",
            "                                                                 \n",
            " block4_conv3 (Conv2D)       (None, 18, 18, 512)       2359808   \n",
            "                                                                 \n",
            " block4_pool (MaxPooling2D)  (None, 9, 9, 512)         0         \n",
            "                                                                 \n",
            " block5_conv1 (Conv2D)       (None, 9, 9, 512)         2359808   \n",
            "                                                                 \n",
            " block5_conv2 (Conv2D)       (None, 9, 9, 512)         2359808   \n",
            "                                                                 \n",
            " block5_conv3 (Conv2D)       (None, 9, 9, 512)         2359808   \n",
            "                                                                 \n",
            " block5_pool (MaxPooling2D)  (None, 4, 4, 512)         0         \n",
            "                                                                 \n",
            "=================================================================\n",
            "Total params: 14714688 (56.13 MB)\n",
            "Trainable params: 0 (0.00 Byte)\n",
            "Non-trainable params: 14714688 (56.13 MB)\n",
            "_________________________________________________________________\n",
            "Model: \"sequential_1\"\n",
            "_________________________________________________________________\n",
            " Layer (type)                Output Shape              Param #   \n",
            "=================================================================\n",
            " vgg16 (Functional)          (None, 4, 4, 512)         14714688  \n",
            "                                                                 \n",
            " flatten_1 (Flatten)         (None, 8192)              0         \n",
            "                                                                 \n",
            " dense_2 (Dense)             (None, 64)                524352    \n",
            "                                                                 \n",
            " activation_5 (Activation)   (None, 64)                0         \n",
            "                                                                 \n",
            " dropout_1 (Dropout)         (None, 64)                0         \n",
            "                                                                 \n",
            " dense_3 (Dense)             (None, 1)                 65        \n",
            "                                                                 \n",
            " activation_6 (Activation)   (None, 1)                 0         \n",
            "                                                                 \n",
            "=================================================================\n",
            "Total params: 15239105 (58.13 MB)\n",
            "Trainable params: 524417 (2.00 MB)\n",
            "Non-trainable params: 14714688 (56.13 MB)\n",
            "_________________________________________________________________\n"
          ]
        }
      ]
    },
    {
      "cell_type": "code",
      "source": [
        "# 모델의 실행 옵션을 설정합니다.\n",
        "finetune_model.compile(loss='binary_crossentropy', optimizer=Adam(learning_rate=0.0002), metrics=['accuracy'])\n",
        "\n",
        "# 학습의 조기 중단을 설정합니다.\n",
        "early_stopping_callback = EarlyStopping(monitor='val_loss', patience=5)\n",
        "\n",
        "# 모델을 실행합니다.\n",
        "history = finetune_model.fit(\n",
        "       train_generator,\n",
        "       epochs=20,\n",
        "       validation_data=test_generator,\n",
        "       validation_steps=10,\n",
        "       callbacks=[early_stopping_callback])"
      ],
      "metadata": {
        "colab": {
          "base_uri": "https://localhost:8080/"
        },
        "id": "o6saHj9o2BSY",
        "outputId": "2ff23c75-e157-4e06-b8ae-3f49b22d1449"
      },
      "execution_count": 13,
      "outputs": [
        {
          "output_type": "stream",
          "name": "stdout",
          "text": [
            "Epoch 1/20\n",
            "32/32 [==============================] - 54s 2s/step - loss: 0.6905 - accuracy: 0.5875 - val_loss: 0.5340 - val_accuracy: 0.7800\n",
            "Epoch 2/20\n",
            "32/32 [==============================] - 61s 2s/step - loss: 0.5746 - accuracy: 0.6938 - val_loss: 0.4230 - val_accuracy: 0.9400\n",
            "Epoch 3/20\n",
            "32/32 [==============================] - 62s 2s/step - loss: 0.4248 - accuracy: 0.8313 - val_loss: 0.4127 - val_accuracy: 0.8400\n",
            "Epoch 4/20\n",
            "32/32 [==============================] - 60s 2s/step - loss: 0.4015 - accuracy: 0.8438 - val_loss: 0.3987 - val_accuracy: 0.8800\n",
            "Epoch 5/20\n",
            "32/32 [==============================] - 59s 2s/step - loss: 0.3871 - accuracy: 0.8687 - val_loss: 0.3140 - val_accuracy: 0.9400\n",
            "Epoch 6/20\n",
            "32/32 [==============================] - 59s 2s/step - loss: 0.3174 - accuracy: 0.8813 - val_loss: 0.2713 - val_accuracy: 0.9400\n",
            "Epoch 7/20\n",
            "32/32 [==============================] - 59s 2s/step - loss: 0.2846 - accuracy: 0.9187 - val_loss: 0.2858 - val_accuracy: 0.8600\n",
            "Epoch 8/20\n",
            "32/32 [==============================] - 59s 2s/step - loss: 0.2899 - accuracy: 0.9062 - val_loss: 0.2732 - val_accuracy: 0.9000\n",
            "Epoch 9/20\n",
            "32/32 [==============================] - 60s 2s/step - loss: 0.2419 - accuracy: 0.9375 - val_loss: 0.2844 - val_accuracy: 0.9000\n",
            "Epoch 10/20\n",
            "32/32 [==============================] - 59s 2s/step - loss: 0.1892 - accuracy: 0.9375 - val_loss: 0.2152 - val_accuracy: 0.9400\n",
            "Epoch 11/20\n",
            "32/32 [==============================] - 51s 2s/step - loss: 0.2087 - accuracy: 0.9312 - val_loss: 0.1480 - val_accuracy: 0.9400\n",
            "Epoch 12/20\n",
            "32/32 [==============================] - 51s 2s/step - loss: 0.2243 - accuracy: 0.9250 - val_loss: 0.1708 - val_accuracy: 0.9800\n",
            "Epoch 13/20\n",
            "32/32 [==============================] - 59s 2s/step - loss: 0.2065 - accuracy: 0.9500 - val_loss: 0.1374 - val_accuracy: 0.9800\n",
            "Epoch 14/20\n",
            "32/32 [==============================] - 52s 2s/step - loss: 0.2070 - accuracy: 0.9125 - val_loss: 0.1475 - val_accuracy: 0.9800\n",
            "Epoch 15/20\n",
            "32/32 [==============================] - 59s 2s/step - loss: 0.1355 - accuracy: 0.9812 - val_loss: 0.1977 - val_accuracy: 0.9200\n",
            "Epoch 16/20\n",
            "32/32 [==============================] - 60s 2s/step - loss: 0.1353 - accuracy: 0.9688 - val_loss: 0.1591 - val_accuracy: 0.9600\n",
            "Epoch 17/20\n",
            "32/32 [==============================] - 59s 2s/step - loss: 0.1693 - accuracy: 0.9375 - val_loss: 0.1355 - val_accuracy: 0.9400\n",
            "Epoch 18/20\n",
            "32/32 [==============================] - 60s 2s/step - loss: 0.1746 - accuracy: 0.9500 - val_loss: 0.1751 - val_accuracy: 0.9400\n",
            "Epoch 19/20\n",
            "32/32 [==============================] - 58s 2s/step - loss: 0.1569 - accuracy: 0.9500 - val_loss: 0.1759 - val_accuracy: 0.9000\n",
            "Epoch 20/20\n",
            "32/32 [==============================] - 59s 2s/step - loss: 0.1890 - accuracy: 0.9250 - val_loss: 0.1548 - val_accuracy: 0.9600\n"
          ]
        }
      ]
    },
    {
      "cell_type": "code",
      "source": [
        "# 검증셋과 학습셋의 오차를 저장합니다.\n",
        "y_vloss = history.history['val_loss']\n",
        "y_loss = history.history['loss']\n",
        "\n",
        "# 그래프로 표현해 봅니다.\n",
        "x_len = np.arange(len(y_loss))\n",
        "plt.plot(x_len, y_vloss, marker='.', c=\"red\", label='Testset_loss')\n",
        "plt.plot(x_len, y_loss, marker='.', c=\"blue\", label='Trainset_loss')\n",
        "\n",
        "# 그래프에 그리드를 주고 레이블을 표시하겠습니다.\n",
        "plt.legend(loc='upper right')\n",
        "plt.grid()\n",
        "plt.xlabel('epoch')\n",
        "plt.ylabel('loss')\n",
        "plt.show()"
      ],
      "metadata": {
        "colab": {
          "base_uri": "https://localhost:8080/",
          "height": 449
        },
        "id": "WaVUYAjY2UnL",
        "outputId": "ffa80b28-798d-403a-eda8-a56a8b348dd7"
      },
      "execution_count": 14,
      "outputs": [
        {
          "output_type": "display_data",
          "data": {
            "text/plain": [
              "<Figure size 640x480 with 1 Axes>"
            ],
            "image/png": "[encoded data removed]"
          },
          "metadata": {}
        }
      ]
    },
    {
      "cell_type": "code",
      "source": [],
      "metadata": {
        "id": "vuMc22ds2WcP"
      },
      "execution_count": null,
      "outputs": []
    }
  ],
  "metadata": {
    "accelerator": "GPU",
    "colab": {
      "gpuType": "T4",
      "provenance": []
    },
    "kernelspec": {
      "display_name": "Python 3",
      "name": "python3"
    },
    "language_info": {
      "name": "python"
    }
  },
  "nbformat": 4,
  "nbformat_minor": 0
}