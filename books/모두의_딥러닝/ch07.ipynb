{
  "nbformat": 4,
  "nbformat_minor": 0,
  "metadata": {
    "colab": {
      "provenance": []
    },
    "kernelspec": {
      "name": "python3",
      "display_name": "Python 3"
    },
    "language_info": {
      "name": "python"
    }
  },
  "cells": [
    {
      "cell_type": "markdown",
      "source": [
        "# Chapter 07. 퍼셉트론과 인공지능의 시작"
      ],
      "metadata": {
        "id": "15dEW9qA0f-G"
      }
    },
    {
      "cell_type": "markdown",
      "source": [
        "## 1. 퍼셉트론과 인공지능의 시작\n",
        "\n",
        "퍼셉트론(perceptron): 입력 값을 여러 개 받아 출력을 만드는데, 이때 입력 값에 가중치를 조절할 수 있게 만들어 최초로 '학습'을 하게 함\n",
        "\n",
        "아달라인(adaline): 퍼셉트론에 경사 하강법을 도입해 최적의 경계선을 그릴 수 있게 함"
      ],
      "metadata": {
        "id": "Yk0XZ4iCfJA9"
      }
    },
    {
      "cell_type": "markdown",
      "source": [
        "## 2. 퍼셉트론의 과제\n",
        "\n",
        "퍼셉트론이나 아달라인은 모두 2차원 평면상에 직선을 긋는 것만 가능하다는 한계"
      ],
      "metadata": {
        "id": "Qf8VbOs7fPNx"
      }
    },
    {
      "cell_type": "markdown",
      "source": [
        "## 3. XOR 문제\n",
        "\n",
        "XOR 문제를 해결하기 위한 두 가지 방법\n",
        "\n",
        "1. 다층 퍼셉트론(multilayer perceptron)\n",
        "2. 오차 역전파(back propagation)"
      ],
      "metadata": {
        "id": "A_U6INi7fXK_"
      }
    },
    {
      "cell_type": "code",
      "source": [],
      "metadata": {
        "id": "2ZxjD9KOfirm"
      },
      "execution_count": null,
      "outputs": []
    }
  ]
}