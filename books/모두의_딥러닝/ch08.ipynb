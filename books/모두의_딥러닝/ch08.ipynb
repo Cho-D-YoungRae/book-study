{
  "nbformat": 4,
  "nbformat_minor": 0,
  "metadata": {
    "colab": {
      "provenance": []
    },
    "kernelspec": {
      "name": "python3",
      "display_name": "Python 3"
    },
    "language_info": {
      "name": "python"
    }
  },
  "cells": [
    {
      "cell_type": "markdown",
      "source": [
        "# Chapter 08. 다층 퍼셉트론"
      ],
      "metadata": {
        "id": "15dEW9qA0f-G"
      }
    },
    {
      "cell_type": "code",
      "source": [
        "import sys\n",
        "import numpy as np\n",
        "import matplotlib\n",
        "import matplotlib.pyplot as plt\n",
        "\n",
        "import tensorflow as tf\n",
        "from tensorflow.keras.models import Sequential\n",
        "from tensorflow.keras.layers import Dense\n",
        "\n",
        "print(sys.version)\n",
        "print(np.__version__)\n",
        "print(matplotlib.__version__)\n",
        "print(tf.__version__)"
      ],
      "metadata": {
        "id": "rA0ZpAWuGV0z",
        "colab": {
          "base_uri": "https://localhost:8080/"
        },
        "outputId": "36e1775a-79fc-4487-93ea-ac7fa3531ac3"
      },
      "execution_count": 1,
      "outputs": [
        {
          "output_type": "stream",
          "name": "stdout",
          "text": [
            "3.10.12 (main, Nov 20 2023, 15:14:05) [GCC 11.4.0]\n",
            "1.25.2\n",
            "3.7.1\n",
            "2.15.0\n"
          ]
        }
      ]
    },
    {
      "cell_type": "markdown",
      "source": [
        "## 1. 다층 퍼셉트론의 등장\n",
        "\n",
        "종이를 휘어 주어 선 두 개를 동시에 긋는 방법을 XOR 문제에 적용하여 '퍼셉트론 두 개를 한 번에 계산' 하면 됨\n",
        "\n",
        "이를 위해 퍼셉트론 두 개를 각각 처리하는 은닉층(hidden layer) 를 만듬"
      ],
      "metadata": {
        "id": "Mt-4XPCZBimw"
      }
    },
    {
      "cell_type": "markdown",
      "source": [
        "## 4. 코딩으로 XOR 문제 해결하기"
      ],
      "metadata": {
        "id": "AbEg2q6KgUPK"
      }
    },
    {
      "cell_type": "code",
      "source": [
        "w11 = np.array([-2, -2])\n",
        "w12 = np.array([2, 2])\n",
        "w2 = np.array([1, 1])\n",
        "b1 = 3\n",
        "b2 = -1\n",
        "b3 = -1"
      ],
      "metadata": {
        "id": "V2oRat3VHJBk"
      },
      "execution_count": 2,
      "outputs": []
    },
    {
      "cell_type": "code",
      "source": [
        "# 퍼셉트론\n",
        "def MLP(x, w, b):\n",
        "    y = np.sum(w * x) + b\n",
        "    if y <= 0:\n",
        "        return 0\n",
        "    else:\n",
        "        return 1\n",
        "\n",
        "# NAND 게이트\n",
        "def NAND(x1,x2):\n",
        "    return MLP(np.array([x1, x2]), w11, b1)\n",
        "\n",
        "# OR 게이트\n",
        "def OR(x1,x2):\n",
        "    return MLP(np.array([x1, x2]), w12, b2)\n",
        "\n",
        "# AND 게이트\n",
        "def AND(x1,x2):\n",
        "    return MLP(np.array([x1, x2]), w2, b3)\n",
        "\n",
        "# XOR 게이트\n",
        "def XOR(x1,x2):\n",
        "    return AND(NAND(x1, x2),OR(x1,x2))"
      ],
      "metadata": {
        "id": "S7nvCeAwgq5i"
      },
      "execution_count": 4,
      "outputs": []
    },
    {
      "cell_type": "code",
      "source": [
        "for x in [(0, 0), (1, 0), (0, 1), (1, 1)]:\n",
        "    y = XOR(x[0], x[1])\n",
        "    print(\"입력 값: \" + str(x) + \" 출력 값: \" + str(y))"
      ],
      "metadata": {
        "colab": {
          "base_uri": "https://localhost:8080/"
        },
        "id": "xfKcmM7Dg5jc",
        "outputId": "deeb8314-8faa-42da-bf87-772a4c30ac47"
      },
      "execution_count": 5,
      "outputs": [
        {
          "output_type": "stream",
          "name": "stdout",
          "text": [
            "입력 값: (0, 0) 출력 값: 0\n",
            "입력 값: (1, 0) 출력 값: 1\n",
            "입력 값: (0, 1) 출력 값: 1\n",
            "입력 값: (1, 1) 출력 값: 0\n"
          ]
        }
      ]
    },
    {
      "cell_type": "markdown",
      "source": [
        "다층 퍼셉트론을 사용할 경우 XOR 문제는 해결되었지만, 은닉층에 들어 있는 가중치를 데이터를 통해 학습하는 방법이 아직 없음\n",
        "\n",
        "첫 번째 아이디어는 **오차 역전파**"
      ],
      "metadata": {
        "id": "ePeNDJl1hBn5"
      }
    }
  ]
}